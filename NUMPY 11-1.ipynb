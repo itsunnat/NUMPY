{
 "cells": [
  {
   "cell_type": "markdown",
   "id": "f40408c0-c934-4fca-806a-421ccf84f81d",
   "metadata": {},
   "source": [
    "NUMPY \n",
    "\n",
    "NumPy is python Library used for working with arrays. \n",
    "An arrays is a collection of data with same datatype  stored in contiguous memory. Array is somewhat similar to list and has function for working in domain like Mathematicians, Linear Algebra etc.\n",
    "NumPy was created in year 2005 by Travis Oliphant, it is open source library can be used freely.\n",
    "NumPy stands for Numerical Python.\n",
    "\n",
    "Why we use NumPy?\n",
    "In Python we already have list that do the same purpose as array. But it is slower is process.\n",
    "NumPy aims to provide an array object that is 50X faster than list. The array object in NumPy is ndarray\n",
    "which means numpy dimensional array-----Nd stands for numpy dimensional arrays are frequently used in DS where speed is very important in performing certain task. Data should bbe of same datatype in Numpy."
   ]
  },
  {
   "cell_type": "code",
   "execution_count": 1,
   "id": "0b37abc6-9f64-4a97-bb11-63a0d2627d69",
   "metadata": {},
   "outputs": [
    {
     "name": "stdout",
     "output_type": "stream",
     "text": [
      "Requirement already satisfied: numpy in c:\\users\\admin\\appdata\\local\\programs\\python\\python312\\lib\\site-packages (1.26.3)\n",
      "Note: you may need to restart the kernel to use updated packages.\n"
     ]
    },
    {
     "name": "stderr",
     "output_type": "stream",
     "text": [
      "\n",
      "[notice] A new release of pip is available: 23.2.1 -> 24.0\n",
      "[notice] To update, run: C:\\Users\\Admin\\AppData\\Local\\Programs\\Python\\Python312\\python.exe -m pip install --upgrade pip\n"
     ]
    }
   ],
   "source": [
    "pip install numpy"
   ]
  },
  {
   "cell_type": "code",
   "execution_count": 2,
   "id": "f458d839-85a3-4d5a-b927-031dc9982a0c",
   "metadata": {},
   "outputs": [],
   "source": [
    "import numpy as np "
   ]
  },
  {
   "cell_type": "code",
   "execution_count": 3,
   "id": "71ad8709-c947-4ed8-b443-6c2d7cb40553",
   "metadata": {},
   "outputs": [
    {
     "data": {
      "text/plain": [
       "array([ 2,  4,  6,  7,  8,  9, 10])"
      ]
     },
     "execution_count": 3,
     "metadata": {},
     "output_type": "execute_result"
    }
   ],
   "source": [
    "array1=np.array([2,4,6,7,8,9,10]) #1D array =====Series\n",
    "#print(array1)\n",
    "array1"
   ]
  },
  {
   "cell_type": "code",
   "execution_count": 4,
   "id": "5358118c-32cb-49f9-8fa5-2d2f4fc795ce",
   "metadata": {},
   "outputs": [
    {
     "data": {
      "text/plain": [
       "array([[100, 200, 300],\n",
       "       [101, 102, 103],\n",
       "       [  5,   6,   7]])"
      ]
     },
     "execution_count": 4,
     "metadata": {},
     "output_type": "execute_result"
    }
   ],
   "source": [
    "a2=np.array([[100,200,300],[101,102,103],[5,6,7]])  # 2D array ====Data ====LIST UNDER LIST\n",
    "a2 \n",
    "#All arrays should be equal or else it will throw error inhomogenuous shape or\n",
    "#if we old jupyter version then it declare that array as list"
   ]
  },
  {
   "cell_type": "code",
   "execution_count": 5,
   "id": "15b6e05a-b3f8-4db8-ab55-ba9e8d843e75",
   "metadata": {},
   "outputs": [
    {
     "name": "stdout",
     "output_type": "stream",
     "text": [
      "[[[10 20 30]\n",
      "  [ 1  3  4]\n",
      "  [ 4  5  6]\n",
      "  [80 70 90]]]\n"
     ]
    }
   ],
   "source": [
    "a3=np.array([[[10,20,30],[1,3,4],[4,5,6],[80,70,90]]]) # 3D array \n",
    "print(a3)"
   ]
  },
  {
   "cell_type": "code",
   "execution_count": 6,
   "id": "ee7f9421-9084-4630-b368-10fb7cadad29",
   "metadata": {},
   "outputs": [
    {
     "name": "stdout",
     "output_type": "stream",
     "text": [
      "1\n",
      "2\n",
      "3\n"
     ]
    }
   ],
   "source": [
    "#To check the dimension of array\n",
    "\n",
    "print(array1.ndim) #ndim is function to check dimension of an array\n",
    "print(a2.ndim)\n",
    "print(a3.ndim)"
   ]
  },
  {
   "cell_type": "code",
   "execution_count": 7,
   "id": "099287f7-64b3-4393-a9f3-e628c5c7c810",
   "metadata": {},
   "outputs": [
    {
     "data": {
      "text/plain": [
       "(7,)"
      ]
     },
     "execution_count": 7,
     "metadata": {},
     "output_type": "execute_result"
    }
   ],
   "source": [
    "# To check the shape of array\n",
    "\n",
    "array1.shape"
   ]
  },
  {
   "cell_type": "code",
   "execution_count": 8,
   "id": "cbacb652-6c47-40e3-8d9d-822700198936",
   "metadata": {},
   "outputs": [
    {
     "data": {
      "text/plain": [
       "(3, 3)"
      ]
     },
     "execution_count": 8,
     "metadata": {},
     "output_type": "execute_result"
    }
   ],
   "source": [
    "a2.shape"
   ]
  },
  {
   "cell_type": "code",
   "execution_count": 9,
   "id": "b3463dc8-01b9-439c-9b78-b2dbe1517d8c",
   "metadata": {},
   "outputs": [
    {
     "data": {
      "text/plain": [
       "(1, 4, 3)"
      ]
     },
     "execution_count": 9,
     "metadata": {},
     "output_type": "execute_result"
    }
   ],
   "source": [
    "a3.shape"
   ]
  },
  {
   "cell_type": "code",
   "execution_count": 10,
   "id": "6dbc05da-4722-43f7-8749-3c59313081d1",
   "metadata": {},
   "outputs": [],
   "source": [
    "a4=np.array([[[1,2,3],[\"Satvika\",\"Umesh\",\"Harry\"]],[[\"Mumbai\",\"Thane\",\"Palghar\"],\n",
    "                                                    [20,25,26]]])"
   ]
  },
  {
   "cell_type": "code",
   "execution_count": 11,
   "id": "de6ef6bd-c9bf-45d3-8096-d7ea66cd4107",
   "metadata": {},
   "outputs": [
    {
     "name": "stdout",
     "output_type": "stream",
     "text": [
      "[[['1' '2' '3']\n",
      "  ['Satvika' 'Umesh' 'Harry']]\n",
      "\n",
      " [['Mumbai' 'Thane' 'Palghar']\n",
      "  ['20' '25' '26']]]\n"
     ]
    }
   ],
   "source": [
    "print(a4)"
   ]
  },
  {
   "cell_type": "code",
   "execution_count": 12,
   "id": "7fd6a4a3-8a21-4ddb-b352-42259d2d8263",
   "metadata": {},
   "outputs": [
    {
     "data": {
      "text/plain": [
       "(2, 2, 3)"
      ]
     },
     "execution_count": 12,
     "metadata": {},
     "output_type": "execute_result"
    }
   ],
   "source": [
    "a4.shape"
   ]
  },
  {
   "cell_type": "code",
   "execution_count": 13,
   "id": "83453a72-1a0a-41fb-9660-cee62b36fecd",
   "metadata": {},
   "outputs": [],
   "source": [
    "a5=np.array([[[2,4],[5,6]],[[10,12],[14,15]],[[11,15],[74,75]],\n",
    "             [[100,101],[102,103]]])"
   ]
  },
  {
   "cell_type": "code",
   "execution_count": 14,
   "id": "123ee5f3-e74c-4b7f-be27-8d05b3ebdc08",
   "metadata": {},
   "outputs": [
    {
     "name": "stdout",
     "output_type": "stream",
     "text": [
      "[[[  2   4]\n",
      "  [  5   6]]\n",
      "\n",
      " [[ 10  12]\n",
      "  [ 14  15]]\n",
      "\n",
      " [[ 11  15]\n",
      "  [ 74  75]]\n",
      "\n",
      " [[100 101]\n",
      "  [102 103]]]\n"
     ]
    }
   ],
   "source": [
    "print(a5)"
   ]
  },
  {
   "cell_type": "code",
   "execution_count": 15,
   "id": "13fe4fee-949b-451a-b9b6-c1646f75c331",
   "metadata": {},
   "outputs": [
    {
     "data": {
      "text/plain": [
       "(4, 2, 2)"
      ]
     },
     "execution_count": 15,
     "metadata": {},
     "output_type": "execute_result"
    }
   ],
   "source": [
    "a5.shape"
   ]
  },
  {
   "cell_type": "code",
   "execution_count": 16,
   "id": "b0f6908c-149f-4944-be5e-06468be95119",
   "metadata": {},
   "outputs": [
    {
     "name": "stdout",
     "output_type": "stream",
     "text": [
      "7\n",
      "9\n",
      "12\n",
      "12\n",
      "16\n"
     ]
    }
   ],
   "source": [
    "#To check size of array ==== to count no of element in the array\n",
    "\n",
    "print(array1.size)\n",
    "print(a2.size)\n",
    "print(a3.size)\n",
    "print(a4.size)\n",
    "print(a5.size)"
   ]
  },
  {
   "cell_type": "code",
   "execution_count": 17,
   "id": "c06ddd9f-198e-48b0-8984-2d3e6db3d541",
   "metadata": {},
   "outputs": [],
   "source": [
    "data=np.array([[20,25,26,27,28,29],\n",
    "               [\"Satvika\",\"Harry\",\"Manish\",\"Isha\",\"Pratik\",\"Mohan\"]])"
   ]
  },
  {
   "cell_type": "code",
   "execution_count": 18,
   "id": "62521b1d-450b-4ac3-9423-2b96c4261763",
   "metadata": {},
   "outputs": [
    {
     "name": "stdout",
     "output_type": "stream",
     "text": [
      "[['20' '25' '26' '27' '28' '29']\n",
      " ['Satvika' 'Harry' 'Manish' 'Isha' 'Pratik' 'Mohan']]\n"
     ]
    }
   ],
   "source": [
    "print(data)"
   ]
  },
  {
   "cell_type": "code",
   "execution_count": 19,
   "id": "c524e1c8-4bc1-4589-8a46-c9920445aa6c",
   "metadata": {},
   "outputs": [
    {
     "data": {
      "text/plain": [
       "array([['20', 'Satvika'],\n",
       "       ['25', 'Harry'],\n",
       "       ['26', 'Manish'],\n",
       "       ['27', 'Isha'],\n",
       "       ['28', 'Pratik'],\n",
       "       ['29', 'Mohan']], dtype='<U11')"
      ]
     },
     "execution_count": 19,
     "metadata": {},
     "output_type": "execute_result"
    }
   ],
   "source": [
    "#TRANSPOSE the array means rows into column or columns into row\n",
    "\n",
    "data.T   #T stands for Transpose"
   ]
  },
  {
   "cell_type": "code",
   "execution_count": 20,
   "id": "a53076a8-8260-4d76-898b-68d4c8b58ff2",
   "metadata": {},
   "outputs": [
    {
     "data": {
      "text/plain": [
       "(2, 6)"
      ]
     },
     "execution_count": 20,
     "metadata": {},
     "output_type": "execute_result"
    }
   ],
   "source": [
    "data.shape"
   ]
  },
  {
   "cell_type": "code",
   "execution_count": 21,
   "id": "b266b370-c146-49e5-84bb-3ce698f27974",
   "metadata": {},
   "outputs": [
    {
     "data": {
      "text/plain": [
       "array([['20', '25', '26'],\n",
       "       ['27', '28', '29'],\n",
       "       ['Satvika', 'Harry', 'Manish'],\n",
       "       ['Isha', 'Pratik', 'Mohan']], dtype='<U11')"
      ]
     },
     "execution_count": 21,
     "metadata": {},
     "output_type": "execute_result"
    }
   ],
   "source": [
    "#Reshape is used for moulding matrix as per your needs\n",
    "\n",
    "data.reshape(4,3) "
   ]
  },
  {
   "cell_type": "code",
   "execution_count": 22,
   "id": "90b0e0d9-a70a-4090-b5f9-2f7905ba6b18",
   "metadata": {},
   "outputs": [
    {
     "data": {
      "text/plain": [
       "array([['20', '25', '26', '27'],\n",
       "       ['28', '29', 'Satvika', 'Harry'],\n",
       "       ['Manish', 'Isha', 'Pratik', 'Mohan']], dtype='<U11')"
      ]
     },
     "execution_count": 22,
     "metadata": {},
     "output_type": "execute_result"
    }
   ],
   "source": [
    "data.reshape(3,4)"
   ]
  },
  {
   "cell_type": "code",
   "execution_count": 23,
   "id": "1e95d46d-1b7e-45c0-a7ce-66fe78126006",
   "metadata": {},
   "outputs": [
    {
     "data": {
      "text/plain": [
       "array([['20', '25', '26', '27', '28', '29'],\n",
       "       ['Satvika', 'Harry', 'Manish', 'Isha', 'Pratik', 'Mohan']],\n",
       "      dtype='<U11')"
      ]
     },
     "execution_count": 23,
     "metadata": {},
     "output_type": "execute_result"
    }
   ],
   "source": [
    "data"
   ]
  },
  {
   "cell_type": "code",
   "execution_count": 24,
   "id": "fe585bf1-8a77-4be0-97c9-0a8e82c9ed48",
   "metadata": {},
   "outputs": [
    {
     "data": {
      "text/plain": [
       "array([[['20', '25', '26'],\n",
       "        ['27', '28', '29'],\n",
       "        ['Satvika', 'Harry', 'Manish'],\n",
       "        ['Isha', 'Pratik', 'Mohan']]], dtype='<U11')"
      ]
     },
     "execution_count": 24,
     "metadata": {},
     "output_type": "execute_result"
    }
   ],
   "source": [
    "data.reshape(1,4,3)"
   ]
  },
  {
   "cell_type": "code",
   "execution_count": 25,
   "id": "d820881d-29b4-4ecf-98dc-adb09e6c3fd2",
   "metadata": {},
   "outputs": [
    {
     "data": {
      "text/plain": [
       "array([[['20', '25', '26'],\n",
       "        ['27', '28', '29']],\n",
       "\n",
       "       [['Satvika', 'Harry', 'Manish'],\n",
       "        ['Isha', 'Pratik', 'Mohan']]], dtype='<U11')"
      ]
     },
     "execution_count": 25,
     "metadata": {},
     "output_type": "execute_result"
    }
   ],
   "source": [
    "data.reshape(2,2,3)"
   ]
  },
  {
   "cell_type": "code",
   "execution_count": 26,
   "id": "5cc6360a-ef95-48fc-af76-06a8b18d024b",
   "metadata": {},
   "outputs": [
    {
     "data": {
      "text/plain": [
       "array([[['20'],\n",
       "        ['25'],\n",
       "        ['26']],\n",
       "\n",
       "       [['27'],\n",
       "        ['28'],\n",
       "        ['29']],\n",
       "\n",
       "       [['Satvika'],\n",
       "        ['Harry'],\n",
       "        ['Manish']],\n",
       "\n",
       "       [['Isha'],\n",
       "        ['Pratik'],\n",
       "        ['Mohan']]], dtype='<U11')"
      ]
     },
     "execution_count": 26,
     "metadata": {},
     "output_type": "execute_result"
    }
   ],
   "source": [
    "data.reshape(4,3,1)"
   ]
  },
  {
   "cell_type": "code",
   "execution_count": 27,
   "id": "66d588b5-6607-4197-a8f2-9477baabeb70",
   "metadata": {},
   "outputs": [
    {
     "data": {
      "text/plain": [
       "array([[[  2,   4],\n",
       "        [  5,   6]],\n",
       "\n",
       "       [[ 10,  12],\n",
       "        [ 14,  15]],\n",
       "\n",
       "       [[ 11,  15],\n",
       "        [ 74,  75]],\n",
       "\n",
       "       [[100, 101],\n",
       "        [102, 103]]])"
      ]
     },
     "execution_count": 27,
     "metadata": {},
     "output_type": "execute_result"
    }
   ],
   "source": [
    "a5\n"
   ]
  },
  {
   "cell_type": "code",
   "execution_count": 28,
   "id": "12e21101-0164-405a-95e1-82277691f3d3",
   "metadata": {},
   "outputs": [
    {
     "data": {
      "text/plain": [
       "array([[[  2,   4,   5,   6],\n",
       "        [ 10,  12,  14,  15]],\n",
       "\n",
       "       [[ 11,  15,  74,  75],\n",
       "        [100, 101, 102, 103]]])"
      ]
     },
     "execution_count": 28,
     "metadata": {},
     "output_type": "execute_result"
    }
   ],
   "source": [
    "a5.reshape(2,2,4)"
   ]
  },
  {
   "cell_type": "code",
   "execution_count": 29,
   "id": "4c1e1775-7d53-4f83-89fc-ea57742928ed",
   "metadata": {},
   "outputs": [
    {
     "data": {
      "text/plain": [
       "array([[[  2,   4],\n",
       "        [  5,   6],\n",
       "        [ 10,  12],\n",
       "        [ 14,  15],\n",
       "        [ 11,  15],\n",
       "        [ 74,  75],\n",
       "        [100, 101],\n",
       "        [102, 103]]])"
      ]
     },
     "execution_count": 29,
     "metadata": {},
     "output_type": "execute_result"
    }
   ],
   "source": [
    "a5.reshape(1,8,2)"
   ]
  },
  {
   "cell_type": "code",
   "execution_count": 30,
   "id": "429b9f0f-223c-4333-8e58-c5510ad6319f",
   "metadata": {},
   "outputs": [
    {
     "data": {
      "text/plain": [
       "array([[  2,   4],\n",
       "       [  5,   6],\n",
       "       [ 10,  12],\n",
       "       [ 14,  15],\n",
       "       [ 11,  15],\n",
       "       [ 74,  75],\n",
       "       [100, 101],\n",
       "       [102, 103]])"
      ]
     },
     "execution_count": 30,
     "metadata": {},
     "output_type": "execute_result"
    }
   ],
   "source": [
    "a5.reshape(8,2)"
   ]
  },
  {
   "cell_type": "code",
   "execution_count": 31,
   "id": "96111615-8ff8-4e3f-93c3-f594e208e79d",
   "metadata": {},
   "outputs": [],
   "source": [
    "A=np.array([1,2,200,40,50,48,75,9,12,23,45,65,10,1,4,5,78,250]).reshape(3,3,2)"
   ]
  },
  {
   "cell_type": "code",
   "execution_count": 32,
   "id": "9387722b-6a63-4723-9439-c4a64251edb7",
   "metadata": {},
   "outputs": [
    {
     "data": {
      "text/plain": [
       "18"
      ]
     },
     "execution_count": 32,
     "metadata": {},
     "output_type": "execute_result"
    }
   ],
   "source": [
    "A.size\n"
   ]
  },
  {
   "cell_type": "code",
   "execution_count": 33,
   "id": "9647dcd1-77e3-4b8c-8862-9a546bfc2caf",
   "metadata": {},
   "outputs": [
    {
     "data": {
      "text/plain": [
       "array([[[  1,   2],\n",
       "        [200,  40],\n",
       "        [ 50,  48]],\n",
       "\n",
       "       [[ 75,   9],\n",
       "        [ 12,  23],\n",
       "        [ 45,  65]],\n",
       "\n",
       "       [[ 10,   1],\n",
       "        [  4,   5],\n",
       "        [ 78, 250]]])"
      ]
     },
     "execution_count": 33,
     "metadata": {},
     "output_type": "execute_result"
    }
   ],
   "source": [
    "A"
   ]
  },
  {
   "cell_type": "markdown",
   "id": "8996e156-7511-4f4e-ac49-3a95dbb4b6f9",
   "metadata": {},
   "source": [
    "ZEROS ARRAY"
   ]
  },
  {
   "cell_type": "code",
   "execution_count": 34,
   "id": "de1ebcad-6267-445f-9960-fcf6d0e41076",
   "metadata": {},
   "outputs": [
    {
     "name": "stdout",
     "output_type": "stream",
     "text": [
      "[0. 0. 0. 0. 0.]\n"
     ]
    }
   ],
   "source": [
    "azero=np.zeros(5) #1D array\n",
    "print(azero) #zeros are always in float"
   ]
  },
  {
   "cell_type": "code",
   "execution_count": 35,
   "id": "28ae67ec-31ca-4ed1-90a5-40e26ea1f3b9",
   "metadata": {},
   "outputs": [
    {
     "name": "stdout",
     "output_type": "stream",
     "text": [
      "[[0. 0. 0. 0. 0.]\n",
      " [0. 0. 0. 0. 0.]\n",
      " [0. 0. 0. 0. 0.]\n",
      " [0. 0. 0. 0. 0.]]\n"
     ]
    }
   ],
   "source": [
    "bzero=np.zeros((4,5)) #2D array\n",
    "print(bzero)"
   ]
  },
  {
   "cell_type": "code",
   "execution_count": 36,
   "id": "5ccd9c98-ac2e-4ccc-bf0a-6a1722f0a0a2",
   "metadata": {},
   "outputs": [
    {
     "name": "stdout",
     "output_type": "stream",
     "text": [
      "[[[0. 0. 0.]\n",
      "  [0. 0. 0.]]\n",
      "\n",
      " [[0. 0. 0.]\n",
      "  [0. 0. 0.]]\n",
      "\n",
      " [[0. 0. 0.]\n",
      "  [0. 0. 0.]]]\n"
     ]
    }
   ],
   "source": [
    "czero=np.zeros((3,2,3)) #3d array\n",
    "print(czero)"
   ]
  },
  {
   "cell_type": "markdown",
   "id": "d5c5f4c5-1eae-400c-addd-506afc41f514",
   "metadata": {},
   "source": [
    "ONES ARRAYS"
   ]
  },
  {
   "cell_type": "code",
   "execution_count": 37,
   "id": "e6ff1501-6af8-4033-8456-aa52985ea9c3",
   "metadata": {},
   "outputs": [
    {
     "name": "stdout",
     "output_type": "stream",
     "text": [
      "[1. 1. 1. 1. 1. 1.]\n"
     ]
    }
   ],
   "source": [
    "A1=np.ones(6) #1d array\n",
    "print(A1) #ones function also gives 1 in float value"
   ]
  },
  {
   "cell_type": "code",
   "execution_count": 38,
   "id": "e370a200-86a2-4450-b885-ab6e884620fc",
   "metadata": {},
   "outputs": [
    {
     "name": "stdout",
     "output_type": "stream",
     "text": [
      "[[1. 1. 1.]\n",
      " [1. 1. 1.]\n",
      " [1. 1. 1.]]\n"
     ]
    }
   ],
   "source": [
    "A2=np.ones((3,3)) # 2Darray\n",
    "print(A2)"
   ]
  },
  {
   "cell_type": "code",
   "execution_count": 39,
   "id": "e20ed148-b737-4bc0-9d10-267692b4c66b",
   "metadata": {},
   "outputs": [
    {
     "name": "stdout",
     "output_type": "stream",
     "text": [
      "[[[1. 1.]\n",
      "  [1. 1.]\n",
      "  [1. 1.]]\n",
      "\n",
      " [[1. 1.]\n",
      "  [1. 1.]\n",
      "  [1. 1.]]]\n"
     ]
    }
   ],
   "source": [
    "A3=np.ones((2,3,2)) #3D array\n",
    "print(A3)"
   ]
  },
  {
   "cell_type": "markdown",
   "id": "68863c50-fc7e-4654-b041-8774e8ffea71",
   "metadata": {},
   "source": [
    "EMPTY ARRAY====RANDOM DATA"
   ]
  },
  {
   "cell_type": "code",
   "execution_count": 40,
   "id": "cddc3686-6ade-4600-8183-f8ac2c3bbef2",
   "metadata": {},
   "outputs": [
    {
     "name": "stdout",
     "output_type": "stream",
     "text": [
      "[0. 0. 0. 0. 0.]\n"
     ]
    }
   ],
   "source": [
    "emp1=np.empty(5) #1D \n",
    "print(emp1)"
   ]
  },
  {
   "cell_type": "code",
   "execution_count": 41,
   "id": "fd4183ae-1a18-4c49-bedc-1f6f5d658290",
   "metadata": {},
   "outputs": [
    {
     "name": "stdout",
     "output_type": "stream",
     "text": [
      "[[0. 0. 0. 0.]\n",
      " [0. 0. 0. 0.]]\n"
     ]
    }
   ],
   "source": [
    "emp2=np.empty((2,4)) #2D\n",
    "print(emp2)"
   ]
  },
  {
   "cell_type": "code",
   "execution_count": 42,
   "id": "691a3174-dad2-4aa9-a76e-6cd0f09c804c",
   "metadata": {},
   "outputs": [
    {
     "name": "stdout",
     "output_type": "stream",
     "text": [
      "[[[0. 0. 0.]\n",
      "  [0. 0. 0.]\n",
      "  [0. 0. 0.]]\n",
      "\n",
      " [[0. 0. 0.]\n",
      "  [0. 0. 0.]\n",
      "  [0. 0. 0.]]]\n"
     ]
    }
   ],
   "source": [
    "emp3=np.empty((2,3,3)) #3D\n",
    "print(emp3)"
   ]
  },
  {
   "cell_type": "code",
   "execution_count": 43,
   "id": "8aba77e5-699f-4ccf-b71d-bbc7dcc12051",
   "metadata": {},
   "outputs": [
    {
     "name": "stdout",
     "output_type": "stream",
     "text": [
      "[0 1 2 3 4 5 6 7 8 9]\n"
     ]
    }
   ],
   "source": [
    "#ARANGE \n",
    "\n",
    "arr1=np.arange(10) #stop \n",
    "print(arr1)"
   ]
  },
  {
   "cell_type": "code",
   "execution_count": 44,
   "id": "13d5347c-4f6e-4d43-973b-01e90743d098",
   "metadata": {},
   "outputs": [
    {
     "name": "stdout",
     "output_type": "stream",
     "text": [
      "[ 1  2  3  4  5  6  7  8  9 10 11 12 13 14 15 16 17 18 19 20 21 22 23 24\n",
      " 25 26 27 28 29 30]\n"
     ]
    }
   ],
   "source": [
    "arr2=np.arange(1,31) #start , stop\n",
    "print(arr2)"
   ]
  },
  {
   "cell_type": "code",
   "execution_count": 45,
   "id": "21665e11-9552-45bb-b882-ea9ae175f473",
   "metadata": {},
   "outputs": [
    {
     "name": "stdout",
     "output_type": "stream",
     "text": [
      "[ 1  3  5  7  9 11 13 15 17 19 21 23 25 27 29 31 33 35 37 39 41 43 45 47\n",
      " 49]\n"
     ]
    }
   ],
   "source": [
    "arr3=np.arange(1,51,2) #start stop step\n",
    "print(arr3)"
   ]
  },
  {
   "cell_type": "code",
   "execution_count": 46,
   "id": "8f9c2665-3f88-4734-87d8-7580c8f19d19",
   "metadata": {},
   "outputs": [
    {
     "name": "stdout",
     "output_type": "stream",
     "text": [
      "[[ 1  3  5  7  9]\n",
      " [11 13 15 17 19]\n",
      " [21 23 25 27 29]\n",
      " [31 33 35 37 39]\n",
      " [41 43 45 47 49]]\n"
     ]
    }
   ],
   "source": [
    "arr3=np.arange(1,51,2).reshape(5,5)\n",
    "print(arr3)"
   ]
  },
  {
   "cell_type": "code",
   "execution_count": 47,
   "id": "74ad1150-a9ea-4f17-b96d-a815d8ed19b6",
   "metadata": {},
   "outputs": [
    {
     "name": "stdout",
     "output_type": "stream",
     "text": [
      "[[[ 1  4]\n",
      "  [ 7 10]\n",
      "  [13 16]\n",
      "  [19 22]\n",
      "  [25 28]]\n",
      "\n",
      " [[31 34]\n",
      "  [37 40]\n",
      "  [43 46]\n",
      "  [49 52]\n",
      "  [55 58]]]\n"
     ]
    }
   ],
   "source": [
    "arr4=np.arange(1,61,3).reshape(2,5,2)\n",
    "#print(arr4.size)\n",
    "print(arr4)\n"
   ]
  },
  {
   "cell_type": "code",
   "execution_count": 48,
   "id": "d5d8f4cc-f26e-472a-b4e8-937540c05546",
   "metadata": {},
   "outputs": [
    {
     "name": "stdout",
     "output_type": "stream",
     "text": [
      "[ 1.     1.375  1.75   2.125  2.5    2.875  3.25   3.625  4.     4.375\n",
      "  4.75   5.125  5.5    5.875  6.25   6.625  7.     7.375  7.75   8.125\n",
      "  8.5    8.875  9.25   9.625 10.   ]\n"
     ]
    }
   ],
   "source": [
    "#### LINSPACE\n",
    "\n",
    "arr6=np.linspace(1,10,25) #start,endnum, no of elements we want\n",
    "#It will give data after spliting the range on equal intervals\n",
    "print(arr6)"
   ]
  },
  {
   "cell_type": "code",
   "execution_count": 49,
   "id": "96a580ce-e34f-4baf-98ea-c3d7499d3a7f",
   "metadata": {},
   "outputs": [
    {
     "name": "stdout",
     "output_type": "stream",
     "text": [
      "[100.         101.35135135 102.7027027  104.05405405 105.40540541\n",
      " 106.75675676 108.10810811 109.45945946 110.81081081 112.16216216\n",
      " 113.51351351 114.86486486 116.21621622 117.56756757 118.91891892\n",
      " 120.27027027 121.62162162 122.97297297 124.32432432 125.67567568\n",
      " 127.02702703 128.37837838 129.72972973 131.08108108 132.43243243\n",
      " 133.78378378 135.13513514 136.48648649 137.83783784 139.18918919\n",
      " 140.54054054 141.89189189 143.24324324 144.59459459 145.94594595\n",
      " 147.2972973  148.64864865 150.         151.35135135 152.7027027\n",
      " 154.05405405 155.40540541 156.75675676 158.10810811 159.45945946\n",
      " 160.81081081 162.16216216 163.51351351 164.86486486 166.21621622\n",
      " 167.56756757 168.91891892 170.27027027 171.62162162 172.97297297\n",
      " 174.32432432 175.67567568 177.02702703 178.37837838 179.72972973\n",
      " 181.08108108 182.43243243 183.78378378 185.13513514 186.48648649\n",
      " 187.83783784 189.18918919 190.54054054 191.89189189 193.24324324\n",
      " 194.59459459 195.94594595 197.2972973  198.64864865 200.        ]\n"
     ]
    }
   ],
   "source": [
    "arr7=np.linspace(100,200,75)\n",
    "print(arr7)"
   ]
  },
  {
   "cell_type": "code",
   "execution_count": 50,
   "id": "7b496bde-d05f-44ba-b7fe-4012abbeb8c8",
   "metadata": {},
   "outputs": [
    {
     "name": "stdout",
     "output_type": "stream",
     "text": [
      "[100. 102. 104. 106. 108. 110. 112. 114. 116. 118. 120. 122. 124. 126.\n",
      " 128. 130. 132. 134. 136. 138. 140. 142. 144. 146. 148.]\n"
     ]
    }
   ],
   "source": [
    "arr8=np.linspace(100,150,25,endpoint=False)\n",
    "#endpoint=False means in no of elements end num will not be included\n",
    "print(arr8)\n"
   ]
  },
  {
   "cell_type": "code",
   "execution_count": 51,
   "id": "73c9213c-2b4e-4994-8c33-e85269f980d1",
   "metadata": {},
   "outputs": [
    {
     "name": "stdout",
     "output_type": "stream",
     "text": [
      "[[1. 0. 0.]\n",
      " [0. 1. 0.]\n",
      " [0. 0. 1.]]\n"
     ]
    }
   ],
   "source": [
    "#EYE MATRIX DIAGONAL=====0 1 Matrix ===Itdentity Matrix\n",
    "\n",
    "eye1=np.eye(3) #diagonally we will get 1 as per no of element given in bracket\n",
    "print(eye1)"
   ]
  },
  {
   "cell_type": "code",
   "execution_count": 52,
   "id": "d8f0d9d1-6844-4e97-8e28-7ac0c7dc129e",
   "metadata": {},
   "outputs": [
    {
     "name": "stdout",
     "output_type": "stream",
     "text": [
      "[[1. 0. 0. 0. 0.]\n",
      " [0. 1. 0. 0. 0.]\n",
      " [0. 0. 1. 0. 0.]\n",
      " [0. 0. 0. 1. 0.]\n",
      " [0. 0. 0. 0. 1.]]\n"
     ]
    }
   ],
   "source": [
    "eye2=np.eye(5)\n",
    "print(eye2)"
   ]
  },
  {
   "cell_type": "code",
   "execution_count": 53,
   "id": "ca7d8320-5eeb-4cbf-879d-f790fb156751",
   "metadata": {},
   "outputs": [
    {
     "data": {
      "text/plain": [
       "'C:\\\\Users\\\\Admin'"
      ]
     },
     "execution_count": 53,
     "metadata": {},
     "output_type": "execute_result"
    }
   ],
   "source": [
    "import os\n",
    "os.getcwd()"
   ]
  },
  {
   "cell_type": "code",
   "execution_count": 54,
   "id": "52928a66-4aac-414c-9b2e-06eb94c9080e",
   "metadata": {},
   "outputs": [
    {
     "data": {
      "text/plain": [
       "array([[10,  0,  0,  0],\n",
       "       [ 0, 20,  0,  0],\n",
       "       [ 0,  0, 30,  0],\n",
       "       [ 0,  0,  0, 40]])"
      ]
     },
     "execution_count": 54,
     "metadata": {},
     "output_type": "execute_result"
    }
   ],
   "source": [
    "#DIAGONAL MATRIX\n",
    "\n",
    "d=np.diag([10,20,30,40])\n",
    "d"
   ]
  },
  {
   "cell_type": "code",
   "execution_count": 55,
   "id": "28e78cb5-ad11-4086-af35-61e72793dbd1",
   "metadata": {},
   "outputs": [
    {
     "data": {
      "text/plain": [
       "array([[11,  0,  0,  0,  0,  0],\n",
       "       [ 0, 12,  0,  0,  0,  0],\n",
       "       [ 0,  0, 13,  0,  0,  0],\n",
       "       [ 0,  0,  0, 14,  0,  0],\n",
       "       [ 0,  0,  0,  0, 15,  0],\n",
       "       [ 0,  0,  0,  0,  0, 16]])"
      ]
     },
     "execution_count": 55,
     "metadata": {},
     "output_type": "execute_result"
    }
   ],
   "source": [
    "e=np.diag([11,12,13,14,15,16])\n",
    "e"
   ]
  },
  {
   "cell_type": "code",
   "execution_count": 56,
   "id": "3fb9f9be-0fc4-4eef-8a43-7220014abfb7",
   "metadata": {},
   "outputs": [
    {
     "data": {
      "text/plain": [
       "array([-0.21930218,  0.97044685,  0.04124102,  0.35461329, -0.10401558,\n",
       "        0.04386168, -1.22222863,  1.31250227,  1.02779361, -0.46417107])"
      ]
     },
     "execution_count": 56,
     "metadata": {},
     "output_type": "execute_result"
    }
   ],
   "source": [
    "#RANDOM\n",
    "\n",
    "r=np.random.randn(10) #In randn n stand for negative #Gaussian\n",
    "r"
   ]
  },
  {
   "cell_type": "code",
   "execution_count": 57,
   "id": "a8df21ea-d4f9-4f60-8d17-8d7fe1fab9a8",
   "metadata": {},
   "outputs": [
    {
     "data": {
      "text/plain": [
       "array([0.17552856, 0.11352866, 0.0055233 , 0.91023278, 0.55640849,\n",
       "       0.01743645, 0.12084567, 0.85456973, 0.35123886, 0.58087162])"
      ]
     },
     "execution_count": 57,
     "metadata": {},
     "output_type": "execute_result"
    }
   ],
   "source": [
    "r1=np.random.rand(10) #random.rand only positive numbers randomly\n",
    "r1\n",
    "\n",
    "#All numbers will have uniform range 0-1"
   ]
  },
  {
   "cell_type": "code",
   "execution_count": 58,
   "id": "f77fc878-f12c-4ec7-8ca6-36d3b3bd7f7a",
   "metadata": {},
   "outputs": [
    {
     "data": {
      "text/plain": [
       "array([[0.49748517, 0.05315151, 0.34360168, 0.61001579, 0.36067055,\n",
       "        0.46605403],\n",
       "       [0.40007069, 0.70237705, 0.43040775, 0.12807069, 0.70719424,\n",
       "        0.58353834],\n",
       "       [0.28673995, 0.37518369, 0.62881985, 0.0730937 , 0.39981813,\n",
       "        0.59199409],\n",
       "       [0.96673998, 0.23790161, 0.82990692, 0.5989913 , 0.96161341,\n",
       "        0.99328085],\n",
       "       [0.10942177, 0.03115468, 0.08572629, 0.79672231, 0.51366095,\n",
       "        0.17737674]])"
      ]
     },
     "execution_count": 58,
     "metadata": {},
     "output_type": "execute_result"
    }
   ],
   "source": [
    "r2=np.random.rand(30).reshape(5,6)\n",
    "r2"
   ]
  },
  {
   "cell_type": "code",
   "execution_count": 59,
   "id": "136f2577-382a-42ee-8d4a-0a65e60e8ffb",
   "metadata": {},
   "outputs": [
    {
     "data": {
      "text/plain": [
       "array([34, 25, 26, 32, 33, 26, 10, 45, 42, 14,  1,  7, 49, 14,  9, 49,  8,\n",
       "        4, 33, 24, 39,  1, 22, 37, 23,  8, 46, 48,  8, 30, 43, 11, 38, 31,\n",
       "       34, 19, 17,  2,  0, 47, 19, 25, 46, 18, 22])"
      ]
     },
     "execution_count": 59,
     "metadata": {},
     "output_type": "execute_result"
    }
   ],
   "source": [
    "y=np.random.randint(50,size=(45))\n",
    "y"
   ]
  },
  {
   "cell_type": "code",
   "execution_count": 60,
   "id": "22443d1f-33c8-4e42-92a7-120e49e8e78a",
   "metadata": {},
   "outputs": [
    {
     "data": {
      "text/plain": [
       "array([[10, 10,  5,  3, 15],\n",
       "       [19,  7,  4,  1, 16],\n",
       "       [ 5,  1,  5,  3, 19]])"
      ]
     },
     "execution_count": 60,
     "metadata": {},
     "output_type": "execute_result"
    }
   ],
   "source": [
    "z=np.random.randint(20,size=(3,5))\n",
    "z\n",
    "#randint give a range stop number and size it will pick up random integer and\n",
    "#arrange it in given size array "
   ]
  },
  {
   "cell_type": "code",
   "execution_count": 61,
   "id": "b514774a-f571-4e3a-818c-b68957a0abc7",
   "metadata": {},
   "outputs": [
    {
     "data": {
      "text/plain": [
       "array([[[23,  7],\n",
       "        [16, 25],\n",
       "        [21,  2],\n",
       "        [ 8, 12],\n",
       "        [ 5, 28]],\n",
       "\n",
       "       [[ 7,  6],\n",
       "        [26, 29],\n",
       "        [ 1,  9],\n",
       "        [12,  2],\n",
       "        [16,  3]],\n",
       "\n",
       "       [[ 2, 16],\n",
       "        [26, 13],\n",
       "        [15, 20],\n",
       "        [27, 27],\n",
       "        [20,  5]]])"
      ]
     },
     "execution_count": 61,
     "metadata": {},
     "output_type": "execute_result"
    }
   ],
   "source": [
    "x=np.random.randint(30,size=(3,5,2))\n",
    "x"
   ]
  },
  {
   "cell_type": "code",
   "execution_count": 62,
   "id": "5fc93563-045a-426c-870d-12fd02a78f69",
   "metadata": {},
   "outputs": [
    {
     "data": {
      "text/plain": [
       "array([[10,  5,  9],\n",
       "       [15, 15,  9],\n",
       "       [10,  7, 20],\n",
       "       [ 9, 20,  7]])"
      ]
     },
     "execution_count": 62,
     "metadata": {},
     "output_type": "execute_result"
    }
   ],
   "source": [
    "#choice\n",
    "c=np.random.choice([5,7,9,10,15,20],size=(4,3))\n",
    "c\n",
    "#give ur number of choice to arrange in array in certain size"
   ]
  },
  {
   "cell_type": "markdown",
   "id": "76dea687-26cc-415e-b70e-defa0a74d950",
   "metadata": {},
   "source": [
    "INDEXING & SLICING"
   ]
  },
  {
   "cell_type": "code",
   "execution_count": 63,
   "id": "4cb03990-736e-46cf-afe3-123dbde7938c",
   "metadata": {},
   "outputs": [
    {
     "data": {
      "text/plain": [
       "array([10, 12, 14, 51, 55, 23, 20, 74, 85])"
      ]
     },
     "execution_count": 63,
     "metadata": {},
     "output_type": "execute_result"
    }
   ],
   "source": [
    "np1=np.array([10,12,14,51,55,23,20,74,85])\n",
    "np1"
   ]
  },
  {
   "cell_type": "code",
   "execution_count": 64,
   "id": "dffbea66-8d25-4a4a-8c91-fed639877fdd",
   "metadata": {},
   "outputs": [
    {
     "data": {
      "text/plain": [
       "23"
      ]
     },
     "execution_count": 64,
     "metadata": {},
     "output_type": "execute_result"
    }
   ],
   "source": [
    "np1[5] #indexing "
   ]
  },
  {
   "cell_type": "code",
   "execution_count": 65,
   "id": "7542a5b8-227e-435b-a57b-5da843247c40",
   "metadata": {},
   "outputs": [
    {
     "data": {
      "text/plain": [
       "85"
      ]
     },
     "execution_count": 65,
     "metadata": {},
     "output_type": "execute_result"
    }
   ],
   "source": [
    "np1[-1]"
   ]
  },
  {
   "cell_type": "code",
   "execution_count": 66,
   "id": "6b19f736-19ea-4a39-899a-cc76887382a4",
   "metadata": {},
   "outputs": [
    {
     "data": {
      "text/plain": [
       "array([10, 12, 14, 51])"
      ]
     },
     "execution_count": 66,
     "metadata": {},
     "output_type": "execute_result"
    }
   ],
   "source": [
    "#start stop #start stop step\n",
    "\n",
    "np1[0:4]"
   ]
  },
  {
   "cell_type": "code",
   "execution_count": 67,
   "id": "afe6e26b-79bd-4346-be7f-eae781b54c91",
   "metadata": {},
   "outputs": [
    {
     "data": {
      "text/plain": [
       "array([85, 74, 20, 23, 55, 51, 14, 12, 10])"
      ]
     },
     "execution_count": 67,
     "metadata": {},
     "output_type": "execute_result"
    }
   ],
   "source": [
    "np1[::-1]"
   ]
  },
  {
   "cell_type": "code",
   "execution_count": 68,
   "id": "9b6e7b03-2419-4545-b3ea-c4b7aa69d0d0",
   "metadata": {},
   "outputs": [
    {
     "data": {
      "text/plain": [
       "array([[ 1,  2,  3,  4,  5],\n",
       "       [ 6,  7,  8,  9, 10],\n",
       "       [11, 12, 13, 14, 15],\n",
       "       [16, 17, 18, 19, 20],\n",
       "       [21, 22, 23, 24, 25],\n",
       "       [26, 27, 28, 29, 30]])"
      ]
     },
     "execution_count": 68,
     "metadata": {},
     "output_type": "execute_result"
    }
   ],
   "source": [
    "np2=np.arange(1,31).reshape(6,5)\n",
    "np2"
   ]
  },
  {
   "cell_type": "code",
   "execution_count": 69,
   "id": "92067f3d-06e8-4b34-b777-7895bed31bde",
   "metadata": {},
   "outputs": [
    {
     "data": {
      "text/plain": [
       "array([1, 2, 3, 4, 5])"
      ]
     },
     "execution_count": 69,
     "metadata": {},
     "output_type": "execute_result"
    }
   ],
   "source": [
    "np2[0]\n"
   ]
  },
  {
   "cell_type": "code",
   "execution_count": 70,
   "id": "4e28c93b-dc37-4801-b4da-bfd0aa4a873c",
   "metadata": {},
   "outputs": [
    {
     "data": {
      "text/plain": [
       "3"
      ]
     },
     "execution_count": 70,
     "metadata": {},
     "output_type": "execute_result"
    }
   ],
   "source": [
    "np2[0][2] #double indexing"
   ]
  },
  {
   "cell_type": "code",
   "execution_count": 71,
   "id": "a5f93229-2061-4a64-b13f-df97821d83b1",
   "metadata": {},
   "outputs": [
    {
     "data": {
      "text/plain": [
       "14"
      ]
     },
     "execution_count": 71,
     "metadata": {},
     "output_type": "execute_result"
    }
   ],
   "source": [
    "np2[2][3]"
   ]
  },
  {
   "cell_type": "code",
   "execution_count": 72,
   "id": "dec26c66-cb70-4721-8245-22ec55800bc0",
   "metadata": {},
   "outputs": [
    {
     "data": {
      "text/plain": [
       "array([[ 1,  2,  3,  4,  5],\n",
       "       [ 6,  7,  8,  9, 10],\n",
       "       [11, 12, 13, 14, 15],\n",
       "       [16, 17, 18, 19, 20]])"
      ]
     },
     "execution_count": 72,
     "metadata": {},
     "output_type": "execute_result"
    }
   ],
   "source": [
    "np2[0:4]"
   ]
  },
  {
   "cell_type": "code",
   "execution_count": 73,
   "id": "af86799c-21d0-4958-867b-4aa83cf1e572",
   "metadata": {},
   "outputs": [
    {
     "data": {
      "text/plain": [
       "array([[ 3,  4,  5],\n",
       "       [ 8,  9, 10],\n",
       "       [13, 14, 15]])"
      ]
     },
     "execution_count": 73,
     "metadata": {},
     "output_type": "execute_result"
    }
   ],
   "source": [
    "#from 1st 3 array last 3 data\n",
    "\n",
    "np2[0:3,-3:]"
   ]
  },
  {
   "cell_type": "code",
   "execution_count": 74,
   "id": "5898a6e5-0b8d-4cd0-8096-856e5b75b463",
   "metadata": {},
   "outputs": [
    {
     "data": {
      "text/plain": [
       "array([[16, 17, 18],\n",
       "       [21, 22, 23],\n",
       "       [26, 27, 28]])"
      ]
     },
     "execution_count": 74,
     "metadata": {},
     "output_type": "execute_result"
    }
   ],
   "source": [
    "#from last 3 array first 3 data\n",
    "np2[-3:,0:3]"
   ]
  },
  {
   "cell_type": "code",
   "execution_count": 75,
   "id": "52c5fd4b-0dad-4f49-86ca-16ad076728cb",
   "metadata": {},
   "outputs": [
    {
     "data": {
      "text/plain": [
       "array([[[ 1,  2,  3,  4,  5,  6],\n",
       "        [ 7,  8,  9, 10, 11, 12],\n",
       "        [13, 14, 15, 16, 17, 18],\n",
       "        [19, 20, 21, 22, 23, 24],\n",
       "        [25, 26, 27, 28, 29, 30]]])"
      ]
     },
     "execution_count": 75,
     "metadata": {},
     "output_type": "execute_result"
    }
   ],
   "source": [
    "np3=np.arange(1,31).reshape(1,5,6)\n",
    "np3"
   ]
  },
  {
   "cell_type": "code",
   "execution_count": 76,
   "id": "74242c15-59f5-48c5-9977-8e211e9baf63",
   "metadata": {},
   "outputs": [
    {
     "data": {
      "text/plain": [
       "array([[ 4,  5,  6],\n",
       "       [10, 11, 12],\n",
       "       [16, 17, 18],\n",
       "       [22, 23, 24],\n",
       "       [28, 29, 30]])"
      ]
     },
     "execution_count": 76,
     "metadata": {},
     "output_type": "execute_result"
    }
   ],
   "source": [
    "np3[0,0:,-3:]#All arrays last 3 data"
   ]
  },
  {
   "cell_type": "code",
   "execution_count": 77,
   "id": "91ea47fa-e01e-4647-8a71-4b4ed8fd7a8b",
   "metadata": {},
   "outputs": [
    {
     "data": {
      "text/plain": [
       "array([[ 9, 10, 11, 12],\n",
       "       [15, 16, 17, 18],\n",
       "       [21, 22, 23, 24],\n",
       "       [27, 28, 29, 30]])"
      ]
     },
     "execution_count": 77,
     "metadata": {},
     "output_type": "execute_result"
    }
   ],
   "source": [
    "#Last 4 arrays last 4 data\n",
    "np3[0,-4:,-4:]\n"
   ]
  },
  {
   "cell_type": "code",
   "execution_count": 78,
   "id": "5c3c9e86-11da-459f-9bf7-7ba6acd4a63a",
   "metadata": {},
   "outputs": [
    {
     "data": {
      "text/plain": [
       "array([10, 12, 14, 51, 55, 23, 20, 74, 85])"
      ]
     },
     "execution_count": 78,
     "metadata": {},
     "output_type": "execute_result"
    }
   ],
   "source": [
    "np1"
   ]
  },
  {
   "cell_type": "code",
   "execution_count": 79,
   "id": "e4ac2dcd-d1a0-4dd1-800e-85f3105ef42c",
   "metadata": {},
   "outputs": [
    {
     "name": "stdout",
     "output_type": "stream",
     "text": [
      "10 12 14 51 55 23 20 74 85 "
     ]
    }
   ],
   "source": [
    "for i in np1:\n",
    "    print(i,end=\" \")"
   ]
  },
  {
   "cell_type": "code",
   "execution_count": 80,
   "id": "30c56015-978c-45aa-be6f-6d4d164816cb",
   "metadata": {},
   "outputs": [
    {
     "data": {
      "text/plain": [
       "array([[ 1,  2,  3,  4,  5],\n",
       "       [ 6,  7,  8,  9, 10],\n",
       "       [11, 12, 13, 14, 15],\n",
       "       [16, 17, 18, 19, 20],\n",
       "       [21, 22, 23, 24, 25],\n",
       "       [26, 27, 28, 29, 30]])"
      ]
     },
     "execution_count": 80,
     "metadata": {},
     "output_type": "execute_result"
    }
   ],
   "source": [
    "np2"
   ]
  },
  {
   "cell_type": "code",
   "execution_count": 81,
   "id": "94bdbd16-feda-4abc-9297-30b7eb43fa58",
   "metadata": {},
   "outputs": [
    {
     "name": "stdout",
     "output_type": "stream",
     "text": [
      "1  2  3  4  5  6  7  8  9  10  11  12  13  14  15  16  17  18  19  20  21  22  23  24  25  26  27  28  29  30  "
     ]
    }
   ],
   "source": [
    "for i in np2: #2D array we need 2 for loop to extract data\n",
    "    for j in i:\n",
    "        print(j,end=\"  \")"
   ]
  },
  {
   "cell_type": "code",
   "execution_count": 82,
   "id": "06934d35-1456-453b-8de5-4e9dca992d82",
   "metadata": {},
   "outputs": [
    {
     "data": {
      "text/plain": [
       "array([[[ 1,  2,  3,  4,  5,  6],\n",
       "        [ 7,  8,  9, 10, 11, 12],\n",
       "        [13, 14, 15, 16, 17, 18],\n",
       "        [19, 20, 21, 22, 23, 24],\n",
       "        [25, 26, 27, 28, 29, 30]]])"
      ]
     },
     "execution_count": 82,
     "metadata": {},
     "output_type": "execute_result"
    }
   ],
   "source": [
    "np3"
   ]
  },
  {
   "cell_type": "code",
   "execution_count": 83,
   "id": "28db9a17-ebbd-4534-92d1-64170ef02cdf",
   "metadata": {},
   "outputs": [
    {
     "name": "stdout",
     "output_type": "stream",
     "text": [
      "1 2 3 4 5 6 7 8 9 10 11 12 13 14 15 16 17 18 19 20 21 22 23 24 25 26 27 28 29 30 "
     ]
    }
   ],
   "source": [
    "for i in np3:#3D array we need 3 for loop to extract data\n",
    "    for j in i:\n",
    "        for k in j:\n",
    "            print(k,end=\" \")"
   ]
  },
  {
   "cell_type": "code",
   "execution_count": 84,
   "id": "4e18e6a2-8392-4f1c-af34-dd6bae74ac9b",
   "metadata": {},
   "outputs": [
    {
     "name": "stdout",
     "output_type": "stream",
     "text": [
      "10 12 14 51 55 23 20 74 85 "
     ]
    }
   ],
   "source": [
    "#nditer===== numpy dimensional iteration\n",
    "#It extracts data from all layers and give us final output\n",
    "\n",
    "for i in np.nditer(np1):\n",
    "    print(i,end=\" \")"
   ]
  },
  {
   "cell_type": "code",
   "execution_count": 85,
   "id": "de92bcdb-b5f4-49ee-8030-2135c41b82c9",
   "metadata": {},
   "outputs": [
    {
     "name": "stdout",
     "output_type": "stream",
     "text": [
      "1 2 3 4 5 6 7 8 9 10 11 12 13 14 15 16 17 18 19 20 21 22 23 24 25 26 27 28 29 30 "
     ]
    }
   ],
   "source": [
    "for i in np.nditer(np2):\n",
    "    print(i,end=\" \")"
   ]
  },
  {
   "cell_type": "code",
   "execution_count": 86,
   "id": "7de2b085-32ef-4ed3-8aa0-084727521aa5",
   "metadata": {},
   "outputs": [
    {
     "name": "stdout",
     "output_type": "stream",
     "text": [
      "1 2 3 4 5 6 7 8 9 10 11 12 13 14 15 16 17 18 19 20 21 22 23 24 25 26 27 28 29 30 "
     ]
    }
   ],
   "source": [
    "for i in np.nditer(np3):\n",
    "    print(i,end=\" \")"
   ]
  },
  {
   "cell_type": "code",
   "execution_count": 87,
   "id": "f8cd372f-3198-45d9-92c4-94e50d4961ff",
   "metadata": {},
   "outputs": [
    {
     "name": "stdout",
     "output_type": "stream",
     "text": [
      "(0, 0) 1\n",
      "(0, 1) 2\n",
      "(0, 2) 3\n",
      "(0, 3) 4\n",
      "(0, 4) 5\n",
      "(1, 0) 6\n",
      "(1, 1) 7\n",
      "(1, 2) 8\n",
      "(1, 3) 9\n",
      "(1, 4) 10\n",
      "(2, 0) 11\n",
      "(2, 1) 12\n",
      "(2, 2) 13\n",
      "(2, 3) 14\n",
      "(2, 4) 15\n",
      "(3, 0) 16\n",
      "(3, 1) 17\n",
      "(3, 2) 18\n",
      "(3, 3) 19\n",
      "(3, 4) 20\n",
      "(4, 0) 21\n",
      "(4, 1) 22\n",
      "(4, 2) 23\n",
      "(4, 3) 24\n",
      "(4, 4) 25\n",
      "(5, 0) 26\n",
      "(5, 1) 27\n",
      "(5, 2) 28\n",
      "(5, 3) 29\n",
      "(5, 4) 30\n"
     ]
    }
   ],
   "source": [
    "#getting output with index number\n",
    "for idx,i in np.ndenumerate(np2):#ndenumerate numpy dimensional enumerate\n",
    "    print(idx,i)"
   ]
  },
  {
   "cell_type": "code",
   "execution_count": 88,
   "id": "1a7d3137-c93c-4626-9003-c5024c0cd36f",
   "metadata": {},
   "outputs": [
    {
     "name": "stdout",
     "output_type": "stream",
     "text": [
      "(0, 0, 0) 1\n",
      "(0, 0, 1) 2\n",
      "(0, 0, 2) 3\n",
      "(0, 0, 3) 4\n",
      "(0, 0, 4) 5\n",
      "(0, 0, 5) 6\n",
      "(0, 1, 0) 7\n",
      "(0, 1, 1) 8\n",
      "(0, 1, 2) 9\n",
      "(0, 1, 3) 10\n",
      "(0, 1, 4) 11\n",
      "(0, 1, 5) 12\n",
      "(0, 2, 0) 13\n",
      "(0, 2, 1) 14\n",
      "(0, 2, 2) 15\n",
      "(0, 2, 3) 16\n",
      "(0, 2, 4) 17\n",
      "(0, 2, 5) 18\n",
      "(0, 3, 0) 19\n",
      "(0, 3, 1) 20\n",
      "(0, 3, 2) 21\n",
      "(0, 3, 3) 22\n",
      "(0, 3, 4) 23\n",
      "(0, 3, 5) 24\n",
      "(0, 4, 0) 25\n",
      "(0, 4, 1) 26\n",
      "(0, 4, 2) 27\n",
      "(0, 4, 3) 28\n",
      "(0, 4, 4) 29\n",
      "(0, 4, 5) 30\n"
     ]
    }
   ],
   "source": [
    "for idx,i in np.ndenumerate(np3):#ndenumerate numpy dimensional enumerate\n",
    "    print(idx,i)\n",
    "\n"
   ]
  },
  {
   "cell_type": "code",
   "execution_count": 89,
   "id": "c9c538c8-b68b-460a-ac5f-6c030a945395",
   "metadata": {},
   "outputs": [],
   "source": [
    "nr1=np.array([[\"Satvika\",\"Payal\",\"Harry\",\"Mohan\"],[28,22,23,30]])\n",
    "nr2=np.array([[\"Bcom\",\"BAF\",\"BSCIT\",\"BMS\"],[85.8,75.5,70,65],[\"MUmbai\",\"Chennai\",\"PUne\",\"Thane\"]])"
   ]
  },
  {
   "cell_type": "code",
   "execution_count": 90,
   "id": "63eeca2b-5f1e-4f5d-8af5-21c64e70dd62",
   "metadata": {},
   "outputs": [
    {
     "data": {
      "text/plain": [
       "array([['Satvika', 'Payal', 'Harry', 'Mohan'],\n",
       "       ['28', '22', '23', '30']], dtype='<U11')"
      ]
     },
     "execution_count": 90,
     "metadata": {},
     "output_type": "execute_result"
    }
   ],
   "source": [
    "nr1"
   ]
  },
  {
   "cell_type": "code",
   "execution_count": 91,
   "id": "fb756806-c01f-408f-b943-213019d0bf48",
   "metadata": {},
   "outputs": [
    {
     "data": {
      "text/plain": [
       "array([['Bcom', 'BAF', 'BSCIT', 'BMS'],\n",
       "       ['85.8', '75.5', '70', '65'],\n",
       "       ['MUmbai', 'Chennai', 'PUne', 'Thane']], dtype='<U32')"
      ]
     },
     "execution_count": 91,
     "metadata": {},
     "output_type": "execute_result"
    }
   ],
   "source": [
    "nr2"
   ]
  },
  {
   "cell_type": "code",
   "execution_count": 92,
   "id": "525cf73c-915f-4326-b8c0-80a72279e7f2",
   "metadata": {},
   "outputs": [],
   "source": [
    "#CONCATENATE\n",
    "\n",
    "nr3=np.concatenate((nr1,nr2))"
   ]
  },
  {
   "cell_type": "code",
   "execution_count": 93,
   "id": "2b156b67-2196-432b-ac12-83c613d3889d",
   "metadata": {},
   "outputs": [
    {
     "data": {
      "text/plain": [
       "array([['Satvika', 'Payal', 'Harry', 'Mohan'],\n",
       "       ['28', '22', '23', '30'],\n",
       "       ['Bcom', 'BAF', 'BSCIT', 'BMS'],\n",
       "       ['85.8', '75.5', '70', '65'],\n",
       "       ['MUmbai', 'Chennai', 'PUne', 'Thane']], dtype='<U32')"
      ]
     },
     "execution_count": 93,
     "metadata": {},
     "output_type": "execute_result"
    }
   ],
   "source": [
    "nr3"
   ]
  },
  {
   "cell_type": "code",
   "execution_count": 94,
   "id": "4eb7e461-884b-45a1-8f9e-a2fea7dcc49d",
   "metadata": {},
   "outputs": [],
   "source": [
    "#STACK\n",
    "\n",
    "nr1=np.array([[\"Satvika\",\"Payal\",\"Harry\",\"Mohan\"],[28,22,23,30]])\n",
    "nr2=np.array([[\"Bcom\",\"BAF\",\"BSCIT\",\"BMS\"],[\"MUmbai\",\"Chennai\",\"PUne\",\"Thane\"]])"
   ]
  },
  {
   "cell_type": "code",
   "execution_count": 95,
   "id": "f6b9160a-677d-4f17-a47b-eb9f1ddbfea5",
   "metadata": {},
   "outputs": [
    {
     "data": {
      "text/plain": [
       "array([[['Satvika', 'Payal', 'Harry', 'Mohan'],\n",
       "        ['28', '22', '23', '30']],\n",
       "\n",
       "       [['Bcom', 'BAF', 'BSCIT', 'BMS'],\n",
       "        ['MUmbai', 'Chennai', 'PUne', 'Thane']]], dtype='<U11')"
      ]
     },
     "execution_count": 95,
     "metadata": {},
     "output_type": "execute_result"
    }
   ],
   "source": [
    "nr4=np.stack((nr1,nr2),axis=0)\n",
    "nr4\n",
    "\n",
    "#In stack both array will be in different 2D way and it will create a 3D array"
   ]
  },
  {
   "cell_type": "code",
   "execution_count": 96,
   "id": "71c41f17-602c-400c-b6fa-cdd7b62b208f",
   "metadata": {},
   "outputs": [
    {
     "data": {
      "text/plain": [
       "array([[['Satvika', 'Payal', 'Harry', 'Mohan'],\n",
       "        ['Bcom', 'BAF', 'BSCIT', 'BMS']],\n",
       "\n",
       "       [['28', '22', '23', '30'],\n",
       "        ['MUmbai', 'Chennai', 'PUne', 'Thane']]], dtype='<U11')"
      ]
     },
     "execution_count": 96,
     "metadata": {},
     "output_type": "execute_result"
    }
   ],
   "source": [
    "nr5=np.stack((nr1,nr2),axis=1)\n",
    "nr5"
   ]
  },
  {
   "cell_type": "code",
   "execution_count": 97,
   "id": "921e1aa0-b501-412c-bb5a-fcf021fdfe78",
   "metadata": {},
   "outputs": [
    {
     "name": "stdout",
     "output_type": "stream",
     "text": [
      "[['Satvika' 'Payal' 'Harry' 'Mohan']\n",
      " ['28' '22' '23' '30']]\n",
      "[['Bcom' 'BAF' 'BSCIT' 'BMS']\n",
      " ['MUmbai' 'Chennai' 'PUne' 'Thane']]\n"
     ]
    },
    {
     "data": {
      "text/plain": [
       "array([['Satvika', 'Payal', 'Harry', 'Mohan', 'Bcom', 'BAF', 'BSCIT',\n",
       "        'BMS'],\n",
       "       ['28', '22', '23', '30', 'MUmbai', 'Chennai', 'PUne', 'Thane']],\n",
       "      dtype='<U11')"
      ]
     },
     "execution_count": 97,
     "metadata": {},
     "output_type": "execute_result"
    }
   ],
   "source": [
    "#HORIZONTAL STACK\n",
    "print(nr1)\n",
    "print(nr2)\n",
    "nr6=np.hstack((nr1,nr2))\n",
    "nr6"
   ]
  },
  {
   "cell_type": "code",
   "execution_count": 98,
   "id": "e467c25a-d3ec-423b-850d-f5ec645dadbb",
   "metadata": {},
   "outputs": [
    {
     "name": "stdout",
     "output_type": "stream",
     "text": [
      "[['Satvika' 'Payal' 'Harry' 'Mohan']\n",
      " ['28' '22' '23' '30']]\n",
      "[['Bcom' 'BAF' 'BSCIT' 'BMS']\n",
      " ['MUmbai' 'Chennai' 'PUne' 'Thane']]\n"
     ]
    },
    {
     "data": {
      "text/plain": [
       "array([['Satvika', 'Payal', 'Harry', 'Mohan'],\n",
       "       ['28', '22', '23', '30'],\n",
       "       ['Bcom', 'BAF', 'BSCIT', 'BMS'],\n",
       "       ['MUmbai', 'Chennai', 'PUne', 'Thane']], dtype='<U11')"
      ]
     },
     "execution_count": 98,
     "metadata": {},
     "output_type": "execute_result"
    }
   ],
   "source": [
    "#Vertical stack is similr to concatenate\n",
    "print(nr1)\n",
    "print(nr2)\n",
    "nr7=np.vstack((nr1,nr2))\n",
    "nr7"
   ]
  },
  {
   "cell_type": "code",
   "execution_count": 99,
   "id": "1be794d1-d2f6-4d5c-bc36-e25aa52a1232",
   "metadata": {},
   "outputs": [],
   "source": [
    "#SPLIT FUNCTION\n",
    "\n",
    "nr8=np.array([100,200,300,400,500,600,700,800,900,1000])"
   ]
  },
  {
   "cell_type": "code",
   "execution_count": 100,
   "id": "31546839-d8b2-40fa-a4c9-9d7159c17b88",
   "metadata": {},
   "outputs": [
    {
     "data": {
      "text/plain": [
       "[array([100]),\n",
       " array([200]),\n",
       " array([300]),\n",
       " array([400]),\n",
       " array([500]),\n",
       " array([600]),\n",
       " array([700]),\n",
       " array([800]),\n",
       " array([900]),\n",
       " array([1000]),\n",
       " array([], dtype=int32),\n",
       " array([], dtype=int32)]"
      ]
     },
     "execution_count": 100,
     "metadata": {},
     "output_type": "execute_result"
    }
   ],
   "source": [
    "nr9=np.array_split(nr8,12)\n",
    "nr9"
   ]
  },
  {
   "cell_type": "code",
   "execution_count": 101,
   "id": "6148af15-21e2-4bf2-a7a7-814e1d472d7b",
   "metadata": {},
   "outputs": [
    {
     "data": {
      "text/plain": [
       "array(['Satvika Thakkar', 'Mohna', 'Marry', 'Harry'], dtype='<U15')"
      ]
     },
     "execution_count": 101,
     "metadata": {},
     "output_type": "execute_result"
    }
   ],
   "source": [
    "#CHECKING DATATYPE\n",
    "\n",
    "\n",
    "A=np.array([\"Satvika Thakkar\",\"Mohna\",\"Marry\",\"Harry\"])\n",
    "A"
   ]
  },
  {
   "cell_type": "code",
   "execution_count": 102,
   "id": "ec53ba43-9177-4ed0-9010-a8ee753295ae",
   "metadata": {},
   "outputs": [
    {
     "data": {
      "text/plain": [
       "dtype('<U15')"
      ]
     },
     "execution_count": 102,
     "metadata": {},
     "output_type": "execute_result"
    }
   ],
   "source": [
    "A.dtype #Dtype is function to check datatype"
   ]
  },
  {
   "cell_type": "code",
   "execution_count": 103,
   "id": "9e3eb947-738b-4589-a6be-4d9c5e337d11",
   "metadata": {},
   "outputs": [
    {
     "name": "stdout",
     "output_type": "stream",
     "text": [
      "int32\n"
     ]
    }
   ],
   "source": [
    "B=np.array([1,2,4,5])\n",
    "B\n",
    "print(B.dtype)"
   ]
  },
  {
   "cell_type": "code",
   "execution_count": 104,
   "id": "3e2e4dcb-ffd5-439b-8c99-2a109e3973e1",
   "metadata": {},
   "outputs": [
    {
     "name": "stdout",
     "output_type": "stream",
     "text": [
      "float64\n"
     ]
    }
   ],
   "source": [
    "C=np.array([45.7,75.6,94.5,12.3])\n",
    "print(C.dtype)"
   ]
  },
  {
   "cell_type": "code",
   "execution_count": 105,
   "id": "f00569b7-cdcc-4098-8377-5ab57dc55dea",
   "metadata": {},
   "outputs": [
    {
     "data": {
      "text/plain": [
       "array([45, 75, 94, 12])"
      ]
     },
     "execution_count": 105,
     "metadata": {},
     "output_type": "execute_result"
    }
   ],
   "source": [
    "#Astype function to change any type\n",
    "\n",
    "C.astype(\"int32\")"
   ]
  },
  {
   "cell_type": "code",
   "execution_count": 106,
   "id": "b6509cf1-439b-4459-9c35-ceaa56ae8462",
   "metadata": {},
   "outputs": [
    {
     "data": {
      "text/plain": [
       "array([1., 2., 4., 5.])"
      ]
     },
     "execution_count": 106,
     "metadata": {},
     "output_type": "execute_result"
    }
   ],
   "source": [
    "B.astype(\"float64\")"
   ]
  },
  {
   "cell_type": "code",
   "execution_count": 107,
   "id": "89cfd452-0197-4996-9e03-e5b3a75fb125",
   "metadata": {},
   "outputs": [
    {
     "name": "stdout",
     "output_type": "stream",
     "text": [
      "<U1\n"
     ]
    }
   ],
   "source": [
    "D=np.array([\"1\",\"2\"])\n",
    "print(D.dtype)"
   ]
  },
  {
   "cell_type": "code",
   "execution_count": 108,
   "id": "62a0d40a-a89d-4a16-ab3b-7355551e622e",
   "metadata": {},
   "outputs": [
    {
     "data": {
      "text/plain": [
       "array([1, 2])"
      ]
     },
     "execution_count": 108,
     "metadata": {},
     "output_type": "execute_result"
    }
   ],
   "source": [
    "D.astype(\"int32\")"
   ]
  },
  {
   "cell_type": "markdown",
   "id": "0f1d06e6-dcf1-4430-9361-646a081bca22",
   "metadata": {},
   "source": [
    "BOARD CASTING ARITHMETIC OPERATIONS ON MATRIX & AGGREGATE FUNCTION"
   ]
  },
  {
   "cell_type": "code",
   "execution_count": 109,
   "id": "68ba3692-3244-44f6-ae45-d3879514fe8a",
   "metadata": {},
   "outputs": [],
   "source": [
    "A=np.array([[10,20,30,40],[45,50,60,70]])\n",
    "B=np.array([[10,5,35,45],[4,9,10,5]])"
   ]
  },
  {
   "cell_type": "code",
   "execution_count": 110,
   "id": "4f5999d5-4b00-473d-8c04-4ad3a8400ad0",
   "metadata": {},
   "outputs": [],
   "source": [
    "C=A+B"
   ]
  },
  {
   "cell_type": "code",
   "execution_count": 111,
   "id": "b4f03c00-2480-476f-a938-7710d891fb73",
   "metadata": {},
   "outputs": [
    {
     "data": {
      "text/plain": [
       "array([[20, 25, 65, 85],\n",
       "       [49, 59, 70, 75]])"
      ]
     },
     "execution_count": 111,
     "metadata": {},
     "output_type": "execute_result"
    }
   ],
   "source": [
    "C"
   ]
  },
  {
   "cell_type": "code",
   "execution_count": 112,
   "id": "10dd4e0b-4ed0-4639-ab67-e4a68cf2a877",
   "metadata": {},
   "outputs": [
    {
     "data": {
      "text/plain": [
       "array([[ 0, 15, -5, -5],\n",
       "       [41, 41, 50, 65]])"
      ]
     },
     "execution_count": 112,
     "metadata": {},
     "output_type": "execute_result"
    }
   ],
   "source": [
    "A-B"
   ]
  },
  {
   "cell_type": "code",
   "execution_count": 113,
   "id": "271a7d4c-d012-4ffe-9d79-84b200e410a1",
   "metadata": {},
   "outputs": [
    {
     "data": {
      "text/plain": [
       "array([[  0, -15,   5,   5],\n",
       "       [-41, -41, -50, -65]])"
      ]
     },
     "execution_count": 113,
     "metadata": {},
     "output_type": "execute_result"
    }
   ],
   "source": [
    "B-A"
   ]
  },
  {
   "cell_type": "code",
   "execution_count": 114,
   "id": "8169ba3f-f61a-4764-a0be-521e7d84dcff",
   "metadata": {},
   "outputs": [
    {
     "data": {
      "text/plain": [
       "array([[20, 25, 65, 85],\n",
       "       [49, 59, 70, 75]])"
      ]
     },
     "execution_count": 114,
     "metadata": {},
     "output_type": "execute_result"
    }
   ],
   "source": [
    "np.add(A,B)#A+B"
   ]
  },
  {
   "cell_type": "code",
   "execution_count": 115,
   "id": "cb4377f9-d44f-40b9-9c2d-7de5a3660e96",
   "metadata": {},
   "outputs": [
    {
     "data": {
      "text/plain": [
       "array([[ 0, 15, -5, -5],\n",
       "       [41, 41, 50, 65]])"
      ]
     },
     "execution_count": 115,
     "metadata": {},
     "output_type": "execute_result"
    }
   ],
   "source": [
    "np.subtract(A,B)"
   ]
  },
  {
   "cell_type": "code",
   "execution_count": 116,
   "id": "682e6c28-5d37-4549-a641-f50229ce9f0f",
   "metadata": {},
   "outputs": [
    {
     "data": {
      "text/plain": [
       "array([[  0, -15,   5,   5],\n",
       "       [-41, -41, -50, -65]])"
      ]
     },
     "execution_count": 116,
     "metadata": {},
     "output_type": "execute_result"
    }
   ],
   "source": [
    "np.subtract(B,A)"
   ]
  },
  {
   "cell_type": "code",
   "execution_count": 117,
   "id": "513abe19-ff91-4f9a-a806-f9f0e78045c0",
   "metadata": {},
   "outputs": [
    {
     "data": {
      "text/plain": [
       "array([[ 100,  100, 1050, 1800],\n",
       "       [ 180,  450,  600,  350]])"
      ]
     },
     "execution_count": 117,
     "metadata": {},
     "output_type": "execute_result"
    }
   ],
   "source": [
    "A*B"
   ]
  },
  {
   "cell_type": "code",
   "execution_count": 118,
   "id": "2c5de1f8-4eff-4e7f-bb20-2c4df8d86a68",
   "metadata": {},
   "outputs": [
    {
     "data": {
      "text/plain": [
       "array([[ 100,  100, 1050, 1800],\n",
       "       [ 180,  450,  600,  350]])"
      ]
     },
     "execution_count": 118,
     "metadata": {},
     "output_type": "execute_result"
    }
   ],
   "source": [
    "np.multiply(A,B)"
   ]
  },
  {
   "cell_type": "code",
   "execution_count": 119,
   "id": "a7bcdf95-825c-454c-b23e-fadd19619a0a",
   "metadata": {},
   "outputs": [
    {
     "data": {
      "text/plain": [
       "array([[ 1.        ,  4.        ,  0.85714286,  0.88888889],\n",
       "       [11.25      ,  5.55555556,  6.        , 14.        ]])"
      ]
     },
     "execution_count": 119,
     "metadata": {},
     "output_type": "execute_result"
    }
   ],
   "source": [
    "A/B"
   ]
  },
  {
   "cell_type": "code",
   "execution_count": 120,
   "id": "f86544a3-db0d-47f2-8139-39a30a874ffb",
   "metadata": {},
   "outputs": [
    {
     "data": {
      "text/plain": [
       "array([[ 1.        ,  4.        ,  0.85714286,  0.88888889],\n",
       "       [11.25      ,  5.55555556,  6.        , 14.        ]])"
      ]
     },
     "execution_count": 120,
     "metadata": {},
     "output_type": "execute_result"
    }
   ],
   "source": [
    "np.divide(A,B)"
   ]
  },
  {
   "cell_type": "code",
   "execution_count": 121,
   "id": "fcd2a31c-e2ae-4d9c-ac49-c12ffd6c2bce",
   "metadata": {},
   "outputs": [
    {
     "data": {
      "text/plain": [
       "array([[10, 20, 30, 40],\n",
       "       [45, 50, 60, 70]])"
      ]
     },
     "execution_count": 121,
     "metadata": {},
     "output_type": "execute_result"
    }
   ],
   "source": [
    "A"
   ]
  },
  {
   "cell_type": "code",
   "execution_count": 122,
   "id": "c7d553b5-a7e1-4448-9e64-f73cc045bfa4",
   "metadata": {},
   "outputs": [],
   "source": [
    "D=np.array([[2,2,2,2],[2,2,2,2]])"
   ]
  },
  {
   "cell_type": "code",
   "execution_count": 123,
   "id": "14877d7f-1ccf-4073-85ba-95d0e7c6fda7",
   "metadata": {},
   "outputs": [
    {
     "data": {
      "text/plain": [
       "array([[0, 0, 0, 0],\n",
       "       [1, 0, 0, 0]])"
      ]
     },
     "execution_count": 123,
     "metadata": {},
     "output_type": "execute_result"
    }
   ],
   "source": [
    "A%D"
   ]
  },
  {
   "cell_type": "code",
   "execution_count": 124,
   "id": "333f6ecf-b4dd-4810-8ee6-bbe37af55315",
   "metadata": {},
   "outputs": [
    {
     "data": {
      "text/plain": [
       "array([[0, 0, 0, 0],\n",
       "       [1, 0, 0, 0]])"
      ]
     },
     "execution_count": 124,
     "metadata": {},
     "output_type": "execute_result"
    }
   ],
   "source": [
    "np.remainder(A,D)"
   ]
  },
  {
   "cell_type": "markdown",
   "id": "d6663f81-5974-432a-8ddc-a42895cefd37",
   "metadata": {},
   "source": [
    "SCALAR MATRIX"
   ]
  },
  {
   "cell_type": "code",
   "execution_count": 125,
   "id": "3e6cdfb6-a415-4ad9-a3d8-79d222945c2d",
   "metadata": {},
   "outputs": [
    {
     "data": {
      "text/plain": [
       "array([[10, 20, 30, 40],\n",
       "       [45, 50, 60, 70]])"
      ]
     },
     "execution_count": 125,
     "metadata": {},
     "output_type": "execute_result"
    }
   ],
   "source": [
    "A"
   ]
  },
  {
   "cell_type": "code",
   "execution_count": 126,
   "id": "ad2f4a63-3bff-4600-bad5-a77a72ecbf16",
   "metadata": {},
   "outputs": [
    {
     "data": {
      "text/plain": [
       "array([[ 50, 100, 150, 200],\n",
       "       [225, 250, 300, 350]])"
      ]
     },
     "execution_count": 126,
     "metadata": {},
     "output_type": "execute_result"
    }
   ],
   "source": [
    "5*A"
   ]
  },
  {
   "cell_type": "code",
   "execution_count": 127,
   "id": "1e659ab4-c97f-44e0-94d0-a0e79508180f",
   "metadata": {},
   "outputs": [],
   "source": [
    "num=6"
   ]
  },
  {
   "cell_type": "code",
   "execution_count": 128,
   "id": "abbe0bd2-d619-443f-b3dd-9bffb32960b3",
   "metadata": {},
   "outputs": [
    {
     "data": {
      "text/plain": [
       "array([[ 60, 120, 180, 240],\n",
       "       [270, 300, 360, 420]])"
      ]
     },
     "execution_count": 128,
     "metadata": {},
     "output_type": "execute_result"
    }
   ],
   "source": [
    "num*A"
   ]
  },
  {
   "cell_type": "code",
   "execution_count": 129,
   "id": "24c26827-01cc-45ac-bdf9-1b0d302b92d2",
   "metadata": {},
   "outputs": [
    {
     "data": {
      "text/plain": [
       "array([[16, 26, 36, 46],\n",
       "       [51, 56, 66, 76]])"
      ]
     },
     "execution_count": 129,
     "metadata": {},
     "output_type": "execute_result"
    }
   ],
   "source": [
    "A+num"
   ]
  },
  {
   "cell_type": "code",
   "execution_count": 130,
   "id": "45536df2-97bd-4296-8157-7dd70a08644c",
   "metadata": {},
   "outputs": [
    {
     "data": {
      "text/plain": [
       "array([[ 4, 14, 24, 34],\n",
       "       [39, 44, 54, 64]])"
      ]
     },
     "execution_count": 130,
     "metadata": {},
     "output_type": "execute_result"
    }
   ],
   "source": [
    "A-num"
   ]
  },
  {
   "cell_type": "code",
   "execution_count": 131,
   "id": "217f5c69-7266-42bf-b996-68a900d857b2",
   "metadata": {},
   "outputs": [
    {
     "data": {
      "text/plain": [
       "array([[ 1.66666667,  3.33333333,  5.        ,  6.66666667],\n",
       "       [ 7.5       ,  8.33333333, 10.        , 11.66666667]])"
      ]
     },
     "execution_count": 131,
     "metadata": {},
     "output_type": "execute_result"
    }
   ],
   "source": [
    "A/num"
   ]
  },
  {
   "cell_type": "markdown",
   "id": "69b65300-a6f3-4e7e-b33d-77741c353eee",
   "metadata": {},
   "source": [
    "AGGREGATE FUNCTIONS===== SUM,min,max,average,count, average===mean"
   ]
  },
  {
   "cell_type": "code",
   "execution_count": 132,
   "id": "3b387e20-0cc0-449e-8425-705dc37ad156",
   "metadata": {},
   "outputs": [],
   "source": [
    "E=np.array([[10,20,30],[1,2,3],[15,25,35]])"
   ]
  },
  {
   "cell_type": "code",
   "execution_count": 133,
   "id": "e3093b82-95ab-4c33-a7ad-387cfb09af4f",
   "metadata": {},
   "outputs": [
    {
     "data": {
      "text/plain": [
       "array([[10, 20, 30],\n",
       "       [ 1,  2,  3],\n",
       "       [15, 25, 35]])"
      ]
     },
     "execution_count": 133,
     "metadata": {},
     "output_type": "execute_result"
    }
   ],
   "source": [
    "E"
   ]
  },
  {
   "cell_type": "code",
   "execution_count": 134,
   "id": "8361bb05-3675-46e2-be39-d50852bbf9bf",
   "metadata": {},
   "outputs": [
    {
     "name": "stdout",
     "output_type": "stream",
     "text": [
      "SUM of all element: 141\n",
      "MIN of all element: 1\n",
      "MAX of all element: 35\n",
      "mean of all element: 15.666666666666666\n",
      "Average of all element: 15.666666666666666\n",
      "Product of all elements: 472500000\n"
     ]
    }
   ],
   "source": [
    "print(\"SUM of all element:\",E.sum())\n",
    "print(\"MIN of all element:\",E.min())\n",
    "print(\"MAX of all element:\",E.max())\n",
    "print(\"mean of all element:\",E.mean())\n",
    "print(\"Average of all element:\",np.average(E))\n",
    "print(\"Product of all elements:\",np.prod(E))"
   ]
  },
  {
   "cell_type": "code",
   "execution_count": 135,
   "id": "dd4ad2d2-fed6-4dce-a79f-7c8cc238de84",
   "metadata": {},
   "outputs": [
    {
     "data": {
      "text/plain": [
       "array([[10, 20, 30],\n",
       "       [ 1,  2,  3],\n",
       "       [15, 25, 35]])"
      ]
     },
     "execution_count": 135,
     "metadata": {},
     "output_type": "execute_result"
    }
   ],
   "source": [
    "E"
   ]
  },
  {
   "cell_type": "code",
   "execution_count": 136,
   "id": "c18b355d-ece5-467c-86fb-5d5d0106dee5",
   "metadata": {},
   "outputs": [
    {
     "name": "stdout",
     "output_type": "stream",
     "text": [
      "SUM OF EACH ARRAY POSITION WISE : [26 47 68]\n",
      "SUM OF EACH ARRAY : [60  6 75]\n"
     ]
    }
   ],
   "source": [
    "#AGGREGATE FUNCTION EACH ARRAY POSITION WISE\n",
    "\n",
    "print(\"SUM OF EACH ARRAY POSITION WISE :\",E.sum(axis=0))\n",
    "print(\"SUM OF EACH ARRAY :\",E.sum(axis=1))"
   ]
  },
  {
   "cell_type": "code",
   "execution_count": 137,
   "id": "46b3c185-ebb7-4007-abb9-e573bcb06a29",
   "metadata": {},
   "outputs": [
    {
     "name": "stdout",
     "output_type": "stream",
     "text": [
      "MEAN OF EACH ARRAY POSITION WISE : [ 8.66666667 15.66666667 22.66666667]\n",
      "MEAN OF EACH ARRAY : [20.  2. 25.]\n",
      "MIN OF EACH ARRAY POSITION WISE : [1 2 3]\n",
      "MIN OF EACH ARRAY : [10  1 15]\n",
      "Max OF EACH ARRAY POSITION WISE : [15 25 35]\n",
      "Max OF EACH ARRAY : [30  3 35]\n",
      "PRODUCT OF EACH ARRAY POSITION WISE : [ 150 1000 3150]\n",
      "PRODUCT OF EACH ARRAY : [ 6000     6 13125]\n"
     ]
    }
   ],
   "source": [
    "#FIND ROW WISE AND COLUMN WISE MEAN, MIN, MAX,PROD\n",
    "\n",
    "print(\"MEAN OF EACH ARRAY POSITION WISE :\",E.mean(axis=0))\n",
    "print(\"MEAN OF EACH ARRAY :\",E.mean(axis=1))\n",
    "print(\"MIN OF EACH ARRAY POSITION WISE :\",E.min(axis=0))\n",
    "print(\"MIN OF EACH ARRAY :\",E.min(axis=1))\n",
    "print(\"Max OF EACH ARRAY POSITION WISE :\",E.max(axis=0))\n",
    "print(\"Max OF EACH ARRAY :\",E.max(axis=1))\n",
    "print(\"PRODUCT OF EACH ARRAY POSITION WISE :\",np.prod(E,axis=0))\n",
    "print(\"PRODUCT OF EACH ARRAY :\",np.prod(E,axis=1))"
   ]
  },
  {
   "cell_type": "code",
   "execution_count": 138,
   "id": "c19aa40e-7782-4cd5-957e-86fe6013627b",
   "metadata": {},
   "outputs": [
    {
     "data": {
      "text/plain": [
       "15.0"
      ]
     },
     "execution_count": 138,
     "metadata": {},
     "output_type": "execute_result"
    }
   ],
   "source": [
    "np.median(E) #50% Quartile Q2"
   ]
  },
  {
   "cell_type": "code",
   "execution_count": 139,
   "id": "c072931b-057f-4226-9336-b303fa0e83c7",
   "metadata": {},
   "outputs": [
    {
     "data": {
      "text/plain": [
       "array([[3.16227766, 4.47213595, 5.47722558],\n",
       "       [1.        , 1.41421356, 1.73205081],\n",
       "       [3.87298335, 5.        , 5.91607978]])"
      ]
     },
     "execution_count": 139,
     "metadata": {},
     "output_type": "execute_result"
    }
   ],
   "source": [
    "np.sqrt(E)"
   ]
  },
  {
   "cell_type": "code",
   "execution_count": 140,
   "id": "8db7f423-cf0b-477d-a682-dd4751f06ea9",
   "metadata": {},
   "outputs": [
    {
     "name": "stdout",
     "output_type": "stream",
     "text": [
      "[[2 3]\n",
      " [4 5]]\n",
      "[[1 2]\n",
      " [2 1]]\n"
     ]
    }
   ],
   "source": [
    "#DOT MULTIPLY\n",
    "\n",
    "n1=np.array([[2,3],[4,5]])\n",
    "n2=np.array([[1,2],[2,1]])\n",
    "print(n1)\n",
    "print(n2)"
   ]
  },
  {
   "cell_type": "code",
   "execution_count": 141,
   "id": "86dfd4c8-dfdf-40af-ab96-73f9b0c08067",
   "metadata": {},
   "outputs": [
    {
     "name": "stdout",
     "output_type": "stream",
     "text": [
      "[[ 8  7]\n",
      " [14 13]]\n"
     ]
    }
   ],
   "source": [
    "dotmul=np.dot(n1,n2)\n",
    "print(dotmul)"
   ]
  },
  {
   "cell_type": "markdown",
   "id": "a7a59f2d-27b4-4e64-9f73-e0ae4a05e2a8",
   "metadata": {},
   "source": [
    "BOOLEAN INDEXING"
   ]
  },
  {
   "cell_type": "code",
   "execution_count": 142,
   "id": "a4b1afd9-644e-44c6-8cef-0b5ca9ab0da0",
   "metadata": {},
   "outputs": [
    {
     "data": {
      "text/plain": [
       "array([[ 1,  2,  3,  4,  5],\n",
       "       [ 6,  7,  8,  9, 10],\n",
       "       [11, 12, 13, 14, 15]])"
      ]
     },
     "execution_count": 142,
     "metadata": {},
     "output_type": "execute_result"
    }
   ],
   "source": [
    "s=np.array(range(1,16)).reshape(3,5)\n",
    "s"
   ]
  },
  {
   "cell_type": "code",
   "execution_count": 143,
   "id": "fa73b350-73dd-423b-a737-10a606b9e1bb",
   "metadata": {},
   "outputs": [],
   "source": [
    "bool=s>8"
   ]
  },
  {
   "cell_type": "code",
   "execution_count": 144,
   "id": "8fedbf13-f16d-46b5-82db-ea2529921362",
   "metadata": {},
   "outputs": [
    {
     "name": "stdout",
     "output_type": "stream",
     "text": [
      "[[False False False False False]\n",
      " [False False False  True  True]\n",
      " [ True  True  True  True  True]]\n"
     ]
    }
   ],
   "source": [
    "print(bool)"
   ]
  },
  {
   "cell_type": "code",
   "execution_count": 145,
   "id": "3f8abd7c-5bf2-4729-aa7f-4b3fa604b4b0",
   "metadata": {},
   "outputs": [
    {
     "data": {
      "text/plain": [
       "array([[ True,  True,  True,  True, False],\n",
       "       [False, False, False, False, False],\n",
       "       [False, False, False, False, False]])"
      ]
     },
     "execution_count": 145,
     "metadata": {},
     "output_type": "execute_result"
    }
   ],
   "source": [
    "s<5"
   ]
  },
  {
   "cell_type": "markdown",
   "id": "3d5d1d90-c33d-4965-bc46-3fe31c5ec6ee",
   "metadata": {},
   "source": [
    "TRIGNOMETRIC FUNCTION"
   ]
  },
  {
   "cell_type": "code",
   "execution_count": 146,
   "id": "51441b3b-68d1-4cc0-b79e-8e4e8576662d",
   "metadata": {},
   "outputs": [
    {
     "name": "stdout",
     "output_type": "stream",
     "text": [
      "Sin: -0.3048106211022167\n",
      "cos: -0.9524129804151563\n",
      "tan: 0.320040389379563\n",
      "log: 2.0794415416798357\n"
     ]
    }
   ],
   "source": [
    "print(\"Sin:\",np.sin(60))\n",
    "print(\"cos:\",np.cos(60))\n",
    "print(\"tan:\",np.tan(60))\n",
    "print(\"log:\",np.log(8))"
   ]
  },
  {
   "cell_type": "code",
   "execution_count": 153,
   "id": "e244d17c-7c7a-4e6f-9e26-30a667d303ab",
   "metadata": {},
   "outputs": [
    {
     "name": "stdout",
     "output_type": "stream",
     "text": [
      "132\n"
     ]
    }
   ],
   "source": [
    "import random\n",
    "c=random.randrange(105,300,3)\n",
    "print(c)"
   ]
  }
 ],
 "metadata": {
  "kernelspec": {
   "display_name": "Python 3 (ipykernel)",
   "language": "python",
   "name": "python3"
  },
  "language_info": {
   "codemirror_mode": {
    "name": "ipython",
    "version": 3
   },
   "file_extension": ".py",
   "mimetype": "text/x-python",
   "name": "python",
   "nbconvert_exporter": "python",
   "pygments_lexer": "ipython3",
   "version": "3.12.1"
  }
 },
 "nbformat": 4,
 "nbformat_minor": 5
}
